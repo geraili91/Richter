{
 "cells": [
  {
   "cell_type": "code",
   "execution_count": null,
   "id": "19709f76",
   "metadata": {
    "vscode": {
     "languageId": "plaintext"
    }
   },
   "outputs": [],
   "source": [
    "# Import necessary libraries\n",
    "from pathlib import Path\n",
    "import numpy as np\n",
    "import pandas as pd\n",
    "import matplotlib.pyplot as plt\n",
    "import seaborn as sns\n",
    "from sklearn.ensemble import RandomForestClassifier\n",
    "from sklearn.metrics import f1_score\n",
    "from sklearn.model_selection import train_test_split\n",
    "\n",
    "# Load Training Values\n",
    "train_values = pd.read_csv('train_values.csv', index_col='building_id')\n",
    "\n",
    "# Load Training Labels\n",
    "train_labels = pd.read_csv('train_labels.csv', index_col='building_id')\n",
    "\n",
    "# Perform one-hot encoding on categorical variables\n",
    "train_values_encoded = pd.get_dummies(train_values)\n",
    "\n",
    "# Create the Random Forest classifier\n",
    "model = RandomForestClassifier(random_state=2018)\n",
    "\n",
    "# Split the training data into training and validation sets\n",
    "X_train, X_val, y_train, y_val = train_test_split(train_values_encoded, train_labels.values.ravel(), test_size=0.2, random_state=42)\n",
    "\n",
    "# Train the model on the training data\n",
    "model.fit(X_train, y_train)\n",
    "\n",
    "# Make predictions on the validation set\n",
    "val_predictions = model.predict(X_val)\n",
    "\n",
    "# Calculate the F1 score on the validation set\n",
    "f1_micro_train = f1_score(y_val, val_predictions, average='micro')\n",
    "\n",
    "print(\"Micro-averaged F1 Score on Training Data:\", f1_micro_train)\n",
    "\n",
    "# Load Test Values\n",
    "test_values = pd.read_csv('test_values.csv', index_col='building_id')\n",
    "\n",
    "# Perform one-hot encoding on categorical variables for the test dataset\n",
    "test_values_encoded = pd.get_dummies(test_values)\n",
    "\n",
    "# Make predictions using the trained model\n",
    "predictions = model.predict(test_values_encoded)\n",
    "\n",
    "# Load the submission format\n",
    "submission_format = pd.read_csv('submission_format.csv', index_col='building_id')\n",
    "\n",
    "# Create a DataFrame for our predictions with the correct column names and index\n",
    "my_submission = pd.DataFrame(data=predictions, columns=submission_format.columns, index=submission_format.index)\n",
    "\n",
    "# Save the submission DataFrame to a CSV file\n",
    "my_submission.to_csv('submission.csv')\n",
    "\n",
    "# Display the head of the saved file\n",
    "my_submission.head()"
   ]
  },
  {
   "cell_type": "code",
   "execution_count": null,
   "id": "c1f3a65a",
   "metadata": {
    "vscode": {
     "languageId": "plaintext"
    }
   },
   "outputs": [],
   "source": []
  }
 ],
 "metadata": {
  "kernelspec": {
   "display_name": "Python 3 (ipykernel)",
   "language": "python",
   "name": "python3"
  },
  "language_info": {
   "codemirror_mode": {
    "name": "ipython",
    "version": 3
   },
   "file_extension": ".py",
   "mimetype": "text/x-python",
   "name": "python",
   "nbconvert_exporter": "python",
   "pygments_lexer": "ipython3",
   "version": "3.12.2"
  }
 },
 "nbformat": 4,
 "nbformat_minor": 5
}
